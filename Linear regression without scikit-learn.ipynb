{
 "cells": [
  {
   "cell_type": "markdown",
   "id": "95bfdda7-f7bb-4d5d-8e59-b15753103635",
   "metadata": {},
   "source": [
    "# Linear Regression with Python without Scikit-Learn"
   ]
  },
  {
   "cell_type": "markdown",
   "id": "91a5420b-d975-4f2b-a818-95adef4b5c43",
   "metadata": {},
   "source": [
    "### Step1 set up environment"
   ]
  },
  {
   "cell_type": "code",
   "execution_count": 7,
   "id": "df344888-6044-4126-8822-2acd4a2323fc",
   "metadata": {},
   "outputs": [
    {
     "name": "stdout",
     "output_type": "stream",
     "text": [
      "Requirement already satisfied: matplotlib in c:\\users\\liuch\\appdata\\local\\programs\\python\\python311\\lib\\site-packages (3.8.2)\n",
      "Requirement already satisfied: contourpy>=1.0.1 in c:\\users\\liuch\\appdata\\local\\programs\\python\\python311\\lib\\site-packages (from matplotlib) (1.2.0)\n",
      "Requirement already satisfied: cycler>=0.10 in c:\\users\\liuch\\appdata\\local\\programs\\python\\python311\\lib\\site-packages (from matplotlib) (0.12.1)\n",
      "Requirement already satisfied: fonttools>=4.22.0 in c:\\users\\liuch\\appdata\\local\\programs\\python\\python311\\lib\\site-packages (from matplotlib) (4.46.0)\n",
      "Requirement already satisfied: kiwisolver>=1.3.1 in c:\\users\\liuch\\appdata\\local\\programs\\python\\python311\\lib\\site-packages (from matplotlib) (1.4.5)\n",
      "Requirement already satisfied: numpy<2,>=1.21 in c:\\users\\liuch\\appdata\\local\\programs\\python\\python311\\lib\\site-packages (from matplotlib) (1.26.2)\n",
      "Requirement already satisfied: packaging>=20.0 in c:\\users\\liuch\\appdata\\local\\programs\\python\\python311\\lib\\site-packages (from matplotlib) (23.2)\n",
      "Requirement already satisfied: pillow>=8 in c:\\users\\liuch\\appdata\\local\\programs\\python\\python311\\lib\\site-packages (from matplotlib) (10.1.0)\n",
      "Requirement already satisfied: pyparsing>=2.3.1 in c:\\users\\liuch\\appdata\\local\\programs\\python\\python311\\lib\\site-packages (from matplotlib) (3.1.1)\n",
      "Requirement already satisfied: python-dateutil>=2.7 in c:\\users\\liuch\\appdata\\local\\programs\\python\\python311\\lib\\site-packages (from matplotlib) (2.8.2)\n",
      "Requirement already satisfied: six>=1.5 in c:\\users\\liuch\\appdata\\local\\programs\\python\\python311\\lib\\site-packages (from python-dateutil>=2.7->matplotlib) (1.16.0)\n"
     ]
    },
    {
     "name": "stderr",
     "output_type": "stream",
     "text": [
      "\n",
      "[notice] A new release of pip is available: 23.2.1 -> 23.3.1\n",
      "[notice] To update, run: python.exe -m pip install --upgrade pip\n"
     ]
    },
    {
     "name": "stdout",
     "output_type": "stream",
     "text": [
      "Collecting pandas\n",
      "  Obtaining dependency information for pandas from https://files.pythonhosted.org/packages/11/17/fb1a34f3e73debbc2fd15a01ea17eaab3717943d08463ff4979a4f024b3f/pandas-2.1.4-cp311-cp311-win_amd64.whl.metadata\n",
      "  Downloading pandas-2.1.4-cp311-cp311-win_amd64.whl.metadata (18 kB)\n",
      "Requirement already satisfied: numpy<2,>=1.23.2 in c:\\users\\liuch\\appdata\\local\\programs\\python\\python311\\lib\\site-packages (from pandas) (1.26.2)\n",
      "Requirement already satisfied: python-dateutil>=2.8.2 in c:\\users\\liuch\\appdata\\local\\programs\\python\\python311\\lib\\site-packages (from pandas) (2.8.2)\n",
      "Collecting pytz>=2020.1 (from pandas)\n",
      "  Obtaining dependency information for pytz>=2020.1 from https://files.pythonhosted.org/packages/32/4d/aaf7eff5deb402fd9a24a1449a8119f00d74ae9c2efa79f8ef9994261fc2/pytz-2023.3.post1-py2.py3-none-any.whl.metadata\n",
      "  Downloading pytz-2023.3.post1-py2.py3-none-any.whl.metadata (22 kB)\n",
      "Collecting tzdata>=2022.1 (from pandas)\n",
      "  Downloading tzdata-2023.3-py2.py3-none-any.whl (341 kB)\n",
      "     ---------------------------------------- 0.0/341.8 kB ? eta -:--:--\n",
      "     -------- ------------------------------ 71.7/341.8 kB 2.0 MB/s eta 0:00:01\n",
      "     -------------------------------------- 341.8/341.8 kB 5.3 MB/s eta 0:00:00\n",
      "Requirement already satisfied: six>=1.5 in c:\\users\\liuch\\appdata\\local\\programs\\python\\python311\\lib\\site-packages (from python-dateutil>=2.8.2->pandas) (1.16.0)\n",
      "Downloading pandas-2.1.4-cp311-cp311-win_amd64.whl (10.6 MB)\n",
      "   ---------------------------------------- 0.0/10.6 MB ? eta -:--:--\n",
      "    --------------------------------------- 0.2/10.6 MB 5.0 MB/s eta 0:00:03\n",
      "   -- ------------------------------------- 0.7/10.6 MB 10.4 MB/s eta 0:00:01\n",
      "   ---- ----------------------------------- 1.2/10.6 MB 10.9 MB/s eta 0:00:01\n",
      "   ----- ---------------------------------- 1.5/10.6 MB 9.8 MB/s eta 0:00:01\n",
      "   ------- -------------------------------- 1.9/10.6 MB 10.3 MB/s eta 0:00:01\n",
      "   -------- ------------------------------- 2.4/10.6 MB 10.8 MB/s eta 0:00:01\n",
      "   ---------- ----------------------------- 2.8/10.6 MB 10.5 MB/s eta 0:00:01\n",
      "   ------------ --------------------------- 3.3/10.6 MB 11.0 MB/s eta 0:00:01\n",
      "   -------------- ------------------------- 3.7/10.6 MB 11.3 MB/s eta 0:00:01\n",
      "   --------------- ------------------------ 4.2/10.6 MB 11.1 MB/s eta 0:00:01\n",
      "   ----------------- ---------------------- 4.5/10.6 MB 11.2 MB/s eta 0:00:01\n",
      "   ------------------ --------------------- 5.0/10.6 MB 11.3 MB/s eta 0:00:01\n",
      "   -------------------- ------------------- 5.4/10.6 MB 11.1 MB/s eta 0:00:01\n",
      "   --------------------- ------------------ 5.8/10.6 MB 11.2 MB/s eta 0:00:01\n",
      "   ----------------------- ---------------- 6.2/10.6 MB 11.4 MB/s eta 0:00:01\n",
      "   ------------------------- -------------- 6.6/10.6 MB 11.5 MB/s eta 0:00:01\n",
      "   -------------------------- ------------- 7.1/10.6 MB 11.3 MB/s eta 0:00:01\n",
      "   --------------------------- ------------ 7.4/10.6 MB 11.3 MB/s eta 0:00:01\n",
      "   ----------------------------- ---------- 7.9/10.6 MB 11.4 MB/s eta 0:00:01\n",
      "   ------------------------------- -------- 8.3/10.6 MB 11.5 MB/s eta 0:00:01\n",
      "   -------------------------------- ------- 8.7/10.6 MB 11.3 MB/s eta 0:00:01\n",
      "   ---------------------------------- ----- 9.1/10.6 MB 11.4 MB/s eta 0:00:01\n",
      "   ----------------------------------- ---- 9.5/10.6 MB 11.5 MB/s eta 0:00:01\n",
      "   ------------------------------------- -- 9.9/10.6 MB 11.5 MB/s eta 0:00:01\n",
      "   -------------------------------------- - 10.3/10.6 MB 11.5 MB/s eta 0:00:01\n",
      "   ---------------------------------------  10.6/10.6 MB 11.5 MB/s eta 0:00:01\n",
      "   ---------------------------------------  10.6/10.6 MB 11.5 MB/s eta 0:00:01\n",
      "   ---------------------------------------- 10.6/10.6 MB 10.9 MB/s eta 0:00:00\n",
      "Downloading pytz-2023.3.post1-py2.py3-none-any.whl (502 kB)\n",
      "   ---------------------------------------- 0.0/502.5 kB ? eta -:--:--\n",
      "   ---------------------------------- ---- 450.6/502.5 kB 14.2 MB/s eta 0:00:01\n",
      "   --------------------------------------- 502.5/502.5 kB 10.5 MB/s eta 0:00:00\n",
      "Installing collected packages: pytz, tzdata, pandas\n",
      "Successfully installed pandas-2.1.4 pytz-2023.3.post1 tzdata-2023.3\n"
     ]
    },
    {
     "name": "stderr",
     "output_type": "stream",
     "text": [
      "\n",
      "[notice] A new release of pip is available: 23.2.1 -> 23.3.1\n",
      "[notice] To update, run: python.exe -m pip install --upgrade pip\n"
     ]
    }
   ],
   "source": [
    "!pip install matplotlib\n",
    "!pip install pandas"
   ]
  },
  {
   "cell_type": "code",
   "execution_count": 8,
   "id": "a1e75d91-2a73-4225-8faf-42e1ad09d472",
   "metadata": {},
   "outputs": [],
   "source": [
    "import matplotlib.pyplot as plt\n",
    "import numpy as np\n",
    "import pandas as pd"
   ]
  },
  {
   "cell_type": "markdown",
   "id": "e42dec76-635a-435c-963a-40eacd8b3242",
   "metadata": {},
   "source": [
    "### Step2 Read the data and create matrices"
   ]
  },
  {
   "cell_type": "markdown",
   "id": "dd5fb73f-3a01-4dc0-a659-9b9d25d9b337",
   "metadata": {},
   "source": [
    "After install matplotlib and import matplotlib.pyplot,numpy,and pandas, we need to read the data and create matrices"
   ]
  },
  {
   "cell_type": "code",
   "execution_count": 16,
   "id": "d7f1db4a-9580-4c6c-87ec-d85392e14213",
   "metadata": {},
   "outputs": [],
   "source": [
    "data = np.genfromtxt('data.csv', delimiter=',')"
   ]
  },
  {
   "cell_type": "code",
   "execution_count": 23,
   "id": "30f28676-406c-406d-b532-d1ac59e59aca",
   "metadata": {},
   "outputs": [],
   "source": [
    "\"\"\"1 tells numpy to figure out the dimension by itself, save the first column as an array \n",
    "to x.reshapge(-1,1) tells python to convert the array into a matrix with one column\"\"\"\n",
    "x = data[:, 0].reshape(-1,1)"
   ]
  },
  {
   "cell_type": "code",
   "execution_count": 19,
   "id": "cc75f803-99dd-463e-abd2-2af5a48e2e00",
   "metadata": {},
   "outputs": [],
   "source": [
    "ones = np.ones([x.shape[0],1]) #create a array containing only ones"
   ]
  },
  {
   "cell_type": "code",
   "execution_count": 34,
   "id": "b963c01e-4e44-4d20-b040-5f4e96adb773",
   "metadata": {},
   "outputs": [],
   "source": [
    "x = np.concatenate([ones, x],1) #concatenate the ones to x matrix"
   ]
  },
  {
   "cell_type": "code",
   "execution_count": 35,
   "id": "5fd5a1d9-5409-4c07-a6c2-ccb740c898c4",
   "metadata": {},
   "outputs": [],
   "source": [
    "y = data[:,1].reshape(-1,1) # create the y matrix"
   ]
  },
  {
   "cell_type": "code",
   "execution_count": 36,
   "id": "72dd1e0c-dbbb-4c45-9d3b-705e8095bded",
   "metadata": {},
   "outputs": [
    {
     "data": {
      "text/plain": [
       "<matplotlib.collections.PathCollection at 0x166d406ef90>"
      ]
     },
     "execution_count": 36,
     "metadata": {},
     "output_type": "execute_result"
    },
    {
     "data": {
      "image/png": "[encoded data removed]",
      "text/plain": [
       "<Figure size 640x480 with 1 Axes>"
      ]
     },
     "metadata": {},
     "output_type": "display_data"
    }
   ],
   "source": [
    "plt.scatter(data[:,0].reshape(-1,1),y)  # we can clearly see a linear trend"
   ]
  },
  {
   "cell_type": "markdown",
   "id": "9079108e-b9f5-426a-ba91-1b93f1d0eaf2",
   "metadata": {},
   "source": [
    "### Step3 Set the hyper parameters"
   ]
  },
  {
   "cell_type": "markdown",
   "id": "dd38c3be-ccc2-4268-a5de-fa235b17747b",
   "metadata": {},
   "source": [
    "Now define hyper parameters, such as learning rate and number of iterations, and initial theta values. theta values are the slope and intercept values of the line equation. i.e the values of m and c in the equation y = c + mx. In this case yhat = theta[0][0] + theta[0][1] * x"
   ]
  },
  {
   "cell_type": "code",
   "execution_count": 78,
   "id": "7ca6e36a-0ff4-4ff4-b087-c1a7822a19e0",
   "metadata": {},
   "outputs": [],
   "source": [
    "alpha = 0.0001  # small alpha value\n",
    "iters = 2000\n",
    "#theta is a row vector\n",
    "theta = np.array([[1.0,1.0]])"
   ]
  },
  {
   "cell_type": "markdown",
   "id": "59b0b7b4-2f8d-4cc2-90ce-ce04829f9afe",
   "metadata": {},
   "source": [
    "### Step4 Create the cost function"
   ]
  },
  {
   "cell_type": "markdown",
   "id": "0e298813-6570-4429-abe1-1d8fb428adf8",
   "metadata": {},
   "source": [
    "Here computeCost function takes x,y and theta as parameters and computes the cost.\"inner\" calculates the dot product of x and theta raise to power 2. Then they are summed up and divided by 2*length of x and returned. The code is below:"
   ]
  },
  {
   "cell_type": "code",
   "execution_count": 79,
   "id": "45aa5ec0-9b9f-4af3-a0d9-86f31d78ac5d",
   "metadata": {},
   "outputs": [],
   "source": [
    "def computeCost(x,y,theta):\n",
    "    inner = np.power(((x @ theta.T) - y), 2) # @ means matrix multiplication of arrays.\n",
    "    return np.sum(inner) / (2 * len(x))"
   ]
  },
  {
   "cell_type": "code",
   "execution_count": 80,
   "id": "7a93129b-2861-4a1e-a1c9-4e69755fc9f9",
   "metadata": {},
   "outputs": [
    {
     "data": {
      "text/plain": [
       "319.40631589398157"
      ]
     },
     "execution_count": 80,
     "metadata": {},
     "output_type": "execute_result"
    }
   ],
   "source": [
    "computeCost(x,y,theta) "
   ]
  },
  {
   "cell_type": "markdown",
   "id": "8c831256-02b9-48f2-8b91-11cd2862ebe3",
   "metadata": {},
   "source": [
    "### Step5 Create the Gradient Descent function"
   ]
  },
  {
   "cell_type": "markdown",
   "id": "741dfa02-3795-45c1-bd70-524de321aab6",
   "metadata": {},
   "source": [
    "Here gradientDescent function is to find the optimum value for theta parameters so that the cost decreases."
   ]
  },
  {
   "cell_type": "code",
   "execution_count": 81,
   "id": "111a849e-47b7-4314-ac20-b1dcfddc02b5",
   "metadata": {},
   "outputs": [],
   "source": [
    "def gradientDescent(x,y,theta,alpha,iters):\n",
    "    for i in range(iters):\n",
    "        theta = theta - (alpha/len(x)) * np.sum((x @ theta.T -y) * x, axis = 0)\n",
    "        cost = computeCost(x,y,theta)\n",
    "    return (theta,cost)"
   ]
  },
  {
   "cell_type": "code",
   "execution_count": 82,
   "id": "7c4590a7-a633-48d7-bdd6-9b09e4137fd8",
   "metadata": {},
   "outputs": [
    {
     "name": "stdout",
     "output_type": "stream",
     "text": [
      "[[1.06153444 1.45862797]] 56.03510649559432\n"
     ]
    }
   ],
   "source": [
    "g, cost = gradientDescent(x,y,theta,alpha,iters)\n",
    "print(g, cost)"
   ]
  },
  {
   "cell_type": "markdown",
   "id": "eede8782-69f0-41ce-9852-edc56e790987",
   "metadata": {},
   "source": [
    "### Step6 Another plot"
   ]
  },
  {
   "cell_type": "code",
   "execution_count": 85,
   "id": "0164a043-c8fe-41ff-9f03-fb4db8e1a39a",
   "metadata": {},
   "outputs": [
    {
     "data": {
      "text/plain": [
       "[<matplotlib.lines.Line2D at 0x166d7eafa90>]"
      ]
     },
     "execution_count": 85,
     "metadata": {},
     "output_type": "execute_result"
    },
    {
     "data": {
      "image/png": "[encoded data removed]",
      "text/plain": [
       "<Figure size 640x480 with 1 Axes>"
      ]
     },
     "metadata": {},
     "output_type": "display_data"
    }
   ],
   "source": [
    "plt.scatter(data[:,0].reshape(-1,1),y)\n",
    "axes = plt.gca()\n",
    "x_vals = np.array(axes.get_xlim())\n",
    "y_vals = g[0][0] * g[0][1] * x_vals  # the line equation\n",
    "plt.plot(x_vals, y_vals, '--')"
   ]
  },
  {
   "cell_type": "markdown",
   "id": "2fd76007-3b4d-4739-9b9a-923cd4769f72",
   "metadata": {},
   "source": [
    "From the figure we can see the line is a perfect fit!"
   ]
  }
 ],
 "metadata": {
  "kernelspec": {
   "display_name": "Python 3 (ipykernel)",
   "language": "python",
   "name": "python3"
  },
  "language_info": {
   "codemirror_mode": {
    "name": "ipython",
    "version": 3
   },
   "file_extension": ".py",
   "mimetype": "text/x-python",
   "name": "python",
   "nbconvert_exporter": "python",
   "pygments_lexer": "ipython3",
   "version": "3.11.6"
  }
 },
 "nbformat": 4,
 "nbformat_minor": 5
}
